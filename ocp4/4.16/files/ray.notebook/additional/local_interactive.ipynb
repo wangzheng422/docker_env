{
 "cells": [
  {
   "cell_type": "code",
   "execution_count": null,
   "id": "9a44568b-61ef-41c7-8ad1-9a3b128f03a7",
   "metadata": {
    "tags": []
   },
   "outputs": [],
   "source": [
    "# Import pieces from codeflare-sdk\n",
    "from codeflare_sdk import Cluster, ClusterConfiguration, TokenAuthentication"
   ]
  },
  {
   "cell_type": "code",
   "execution_count": null,
   "id": "2cc66278",
   "metadata": {},
   "outputs": [],
   "source": [
    "# Create authentication object and log in to desired user account (if not already authenticated)\n",
    "auth = TokenAuthentication(\n",
    "    token = \"XXXX\",\n",
    "    server = \"XXXX\",\n",
    "    skip_tls = False\n",
    ")\n",
    "auth.login()"
   ]
  },
  {
   "cell_type": "markdown",
   "id": "18de2d65",
   "metadata": {},
   "source": [
    "\n",
    "NOTE: The default images used by the CodeFlare SDK for creating a RayCluster resource depend on the installed Python version:\n",
    "\n",
    "- For Python 3.9: 'quay.io/modh/ray:2.35.0-py39-cu121'\n",
    "- For Python 3.11: 'quay.io/modh/ray:2.35.0-py311-cu121'\n",
    "\n",
    "If you prefer to use a custom Ray image that better suits your needs, you can specify it in the image field to override the default."
   ]
  },
  {
   "cell_type": "code",
   "execution_count": null,
   "id": "4364ac2e-dd10-4d30-ba66-12708daefb3f",
   "metadata": {
    "tags": []
   },
   "outputs": [],
   "source": [
    "# Create and submit our cluster\n",
    "# The SDK will try to find the name of your default local queue based on the annotation \"kueue.x-k8s.io/default-queue\": \"true\" unless you specify the local queue manually below\n",
    "cluster_name = \"hfgputest-1\"\n",
    "\n",
    "cluster = Cluster(ClusterConfiguration(\n",
    "                                       name=cluster_name,\n",
    "                                       head_extended_resource_requests={'nvidia.com/gpu':0}, # For GPU enabled workloads set the head_extended_resource_requests and worker_extended_resource_requests\n",
    "                                       worker_extended_resource_requests={'nvidia.com/gpu':0},\n",
    "                                       num_workers=1,\n",
    "                                       worker_cpu_requests=1,\n",
    "                                       worker_cpu_limits=1,\n",
    "                                       worker_memory_requests=4,\n",
    "                                       worker_memory_limits=4,\n",
    "                                       # image=\"\", # Optional Field \n",
    "                                       write_to_file=False, # When enabled Ray Cluster yaml files are written to /HOME/.codeflare/resources \n",
    "                                       # local_queue=\"local-queue-name\" # Specify the local queue manually\n",
    "                                       ))"
   ]
  },
  {
   "cell_type": "code",
   "execution_count": null,
   "id": "69968140-15e6-482f-9529-82b0cd19524b",
   "metadata": {
    "tags": []
   },
   "outputs": [],
   "source": [
    "cluster.up()"
   ]
  },
  {
   "cell_type": "code",
   "execution_count": null,
   "id": "e20f9982-f671-460b-8c22-3d62e101fed9",
   "metadata": {
    "tags": []
   },
   "outputs": [],
   "source": [
    "cluster.wait_ready()"
   ]
  },
  {
   "cell_type": "markdown",
   "id": "12eef53c",
   "metadata": {},
   "source": [
    "### Connect via the rayclient route"
   ]
  },
  {
   "cell_type": "code",
   "execution_count": null,
   "id": "cf1b749e-2335-42c2-b673-26768ec9895d",
   "metadata": {},
   "outputs": [],
   "source": [
    "from codeflare_sdk import generate_cert\n",
    "\n",
    "generate_cert.generate_tls_cert(cluster_name, cluster.config.namespace)\n",
    "generate_cert.export_env(cluster_name, cluster.config.namespace)"
   ]
  },
  {
   "cell_type": "code",
   "execution_count": null,
   "id": "9483bb98-33b3-4beb-9b15-163d7e76c1d7",
   "metadata": {
    "tags": []
   },
   "outputs": [],
   "source": [
    "import ray\n",
    "\n",
    "ray.shutdown()\n",
    "ray.init(address=cluster.local_client_url(), logging_level=\"DEBUG\")"
   ]
  },
  {
   "cell_type": "code",
   "execution_count": null,
   "id": "3436eb4a-217c-4109-a3c3-309fda7e2442",
   "metadata": {},
   "outputs": [],
   "source": [
    "import math\n",
    "import ray\n",
    "\n",
    "@ray.remote\n",
    "def heavy_calculation_part(num_iterations):\n",
    "    result = 0.0\n",
    "    for i in range(num_iterations):\n",
    "        for j in range(num_iterations):\n",
    "            for k in range(num_iterations):\n",
    "                result += math.sin(i) * math.cos(j) * math.tan(k)\n",
    "    return result\n",
    "@ray.remote\n",
    "def heavy_calculation(num_iterations):\n",
    "    results = ray.get([heavy_calculation_part.remote(num_iterations//30) for _ in range(30)])\n",
    "    return sum(results)\n"
   ]
  },
  {
   "cell_type": "code",
   "execution_count": null,
   "id": "5cca1874-2be3-4631-ae48-9adfa45e3af3",
   "metadata": {
    "tags": []
   },
   "outputs": [],
   "source": [
    "ref = heavy_calculation.remote(3000)"
   ]
  },
  {
   "cell_type": "code",
   "execution_count": null,
   "id": "01172c29-e8bf-41ef-8db5-eccb07906111",
   "metadata": {},
   "outputs": [],
   "source": [
    "ray.get(ref)"
   ]
  },
  {
   "cell_type": "code",
   "execution_count": null,
   "id": "9e79b547-a457-4232-b77d-19147067b972",
   "metadata": {},
   "outputs": [],
   "source": [
    "ray.cancel(ref)\n",
    "ray.shutdown()"
   ]
  },
  {
   "cell_type": "code",
   "execution_count": null,
   "id": "2c198f1f-68bf-43ff-a148-02b5cb000ff2",
   "metadata": {},
   "outputs": [],
   "source": [
    "cluster.down()"
   ]
  },
  {
   "cell_type": "code",
   "execution_count": null,
   "id": "6879e471-a69f-4c74-9cec-a195cdead47c",
   "metadata": {},
   "outputs": [],
   "source": []
  }
 ],
 "metadata": {
  "kernelspec": {
   "display_name": "Python 3.11",
   "language": "python",
   "name": "python3"
  },
  "language_info": {
   "codemirror_mode": {
    "name": "ipython",
    "version": 3
   },
   "file_extension": ".py",
   "mimetype": "text/x-python",
   "name": "python",
   "nbconvert_exporter": "python",
   "pygments_lexer": "ipython3",
   "version": "3.9.18"
  },
  "vscode": {
   "interpreter": {
    "hash": "f9f85f796d01129d0dd105a088854619f454435301f6ffec2fea96ecbd9be4ac"
   }
  }
 },
 "nbformat": 4,
 "nbformat_minor": 5
}
