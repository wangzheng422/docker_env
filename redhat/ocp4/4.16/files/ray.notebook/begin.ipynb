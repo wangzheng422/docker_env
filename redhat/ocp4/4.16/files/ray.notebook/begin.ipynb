{
 "cells": [
  {
   "cell_type": "code",
   "execution_count": 1,
   "id": "2e532ff7-4f51-407e-bd10-b2e5e604e34f",
   "metadata": {},
   "outputs": [],
   "source": [
    "from codeflare_sdk import copy_demo_nbs\n",
    "copy_demo_nbs()"
   ]
  },
  {
   "cell_type": "code",
   "execution_count": null,
   "id": "4ee56ec2-89bd-4b0b-8572-147d08c178e3",
   "metadata": {},
   "outputs": [],
   "source": []
  }
 ],
 "metadata": {
  "kernelspec": {
   "display_name": "Python 3.11",
   "language": "python",
   "name": "python3"
  },
  "language_info": {
   "codemirror_mode": {
    "name": "ipython",
    "version": 3
   },
   "file_extension": ".py",
   "mimetype": "text/x-python",
   "name": "python",
   "nbconvert_exporter": "python",
   "pygments_lexer": "ipython3",
   "version": "3.11.7"
  }
 },
 "nbformat": 4,
 "nbformat_minor": 5
}
